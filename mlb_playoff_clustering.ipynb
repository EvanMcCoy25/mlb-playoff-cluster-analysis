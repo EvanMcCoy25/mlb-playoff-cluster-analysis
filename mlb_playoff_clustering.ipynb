{
 "cells": [
  {
   "cell_type": "markdown",
   "id": "e5e8c146",
   "metadata": {},
   "source": [
    "# MLB Playoff Clustering (2007–2024)\n",
    "This notebook uses K-Means clustering and PCA to analyze MLB playoff teams from 2007–2024. Advanced stats such as OPS+, xFIP, Bullpen WPA, and Contact % are used to identify team types and evaluate which team archetypes are most likely to win the World Series."
   ]
  },
  {
   "cell_type": "code",
   "execution_count": null,
   "id": "5bf5cfc4",
   "metadata": {},
   "outputs": [],
   "source": [
    "import pandas as pd\n",
    "import numpy as np\n",
    "from sklearn.preprocessing import StandardScaler\n",
    "from sklearn.cluster import KMeans\n",
    "from sklearn.decomposition import PCA\n",
    "import matplotlib.pyplot as plt\n",
    "import seaborn as sns"
   ]
  },
  {
   "cell_type": "markdown",
   "id": "51a3924f",
   "metadata": {},
   "source": [
    "## Load Data"
   ]
  },
  {
   "cell_type": "code",
   "execution_count": null,
   "id": "97a5c00e",
   "metadata": {},
   "outputs": [],
   "source": [
    "# Upload your Excel file first\n",
    "from google.colab import files\n",
    "uploaded = files.upload()\n",
    "file_name = list(uploaded.keys())[0]\n",
    "\n",
    "# Load 2024 stat data and Results sheet\n",
    "df = pd.read_excel(file_name, sheet_name='2024')\n",
    "results_df = pd.read_excel(file_name, sheet_name='Results')"
   ]
  },
  {
   "cell_type": "markdown",
   "id": "fd3348f4",
   "metadata": {},
   "source": [
    "## Clean and Prepare Data"
   ]
  },
  {
   "cell_type": "code",
   "execution_count": null,
   "id": "ec66de2a",
   "metadata": {},
   "outputs": [],
   "source": [
    "# Clean columns\n",
    "results_df.columns = results_df.columns.str.strip()\n",
    "df.columns = df.columns.str.strip()\n",
    "\n",
    "# Stat columns used in the model\n",
    "stats_cols = ['OPS+', 'OPS In High Leverage', 'Contact %', 'Bullpen WPA',\n",
    "              'K-BB %', 'xFIP', 'DRS', 'DIFF', 'BsR', 'RE24', 'RP LOB %']\n",
    "\n",
    "# Convert all to numeric\n",
    "for col in stats_cols:\n",
    "    df[col] = pd.to_numeric(df[col], errors='coerce')\n",
    "\n",
    "# Drop rows with missing values in stat columns\n",
    "df_clean = df.dropna(subset=stats_cols).copy()\n",
    "\n",
    "# Merge in correct playoff results\n",
    "df_clean = df_clean.merge(results_df[['Year', 'Team', 'Result']], on=['Year', 'Team'], how='left')"
   ]
  },
  {
   "cell_type": "markdown",
   "id": "7edd8ac3",
   "metadata": {},
   "source": [
    "## K-Means Clustering and PCA"
   ]
  },
  {
   "cell_type": "code",
   "execution_count": null,
   "id": "8bc193eb",
   "metadata": {},
   "outputs": [],
   "source": [
    "# Standardize features\n",
    "scaler = StandardScaler()\n",
    "X_scaled = scaler.fit_transform(df_clean[stats_cols])\n",
    "\n",
    "# Run KMeans\n",
    "kmeans = KMeans(n_clusters=4, random_state=42)\n",
    "df_clean['Cluster'] = kmeans.fit_predict(X_scaled)\n",
    "\n",
    "# PCA for 2D Visualization\n",
    "pca = PCA(n_components=2)\n",
    "components = pca.fit_transform(X_scaled)\n",
    "df_clean['PCA1'] = components[:, 0]\n",
    "df_clean['PCA2'] = components[:, 1]\n",
    "\n",
    "# Plot clusters\n",
    "plt.figure(figsize=(10, 6))\n",
    "sns.scatterplot(data=df_clean, x='PCA1', y='PCA2', hue='Cluster', palette='tab10')\n",
    "plt.title('K-Means Clusters of 2007–2024 Playoff Teams')\n",
    "plt.xlabel('PCA1')\n",
    "plt.ylabel('PCA2')\n",
    "plt.grid(True)\n",
    "plt.show()"
   ]
  },
  {
   "cell_type": "markdown",
   "id": "66d213fc",
   "metadata": {},
   "source": [
    "## Analyze Playoff Results by Cluster"
   ]
  },
  {
   "cell_type": "code",
   "execution_count": null,
   "id": "a5bd28a7",
   "metadata": {},
   "outputs": [],
   "source": [
    "# Use clean result column\n",
    "cluster_results = df_clean.groupby('Cluster')['Result'].value_counts().unstack().fillna(0).astype(int)\n",
    "cluster_results['WS Win %'] = (cluster_results.get('WS WIN', 0) / cluster_results.sum(axis=1)).round(2)\n",
    "cluster_results"
   ]
  }
 ],
 "metadata": {},
 "nbformat": 4,
 "nbformat_minor": 5
}
